{
 "cells": [
  {
   "cell_type": "code",
   "execution_count": 1,
   "metadata": {},
   "outputs": [],
   "source": [
    "import pyspark\n",
    "from pyspark.sql.functions import *\n",
    "from pyspark.sql import SparkSession\n",
    "from pyspark import SparkContext"
   ]
  },
  {
   "cell_type": "code",
   "execution_count": 2,
   "metadata": {},
   "outputs": [],
   "source": [
    "sc = SparkContext(\"local\", \"post-sales-auto\")\n",
    "raw_rdd = sc.textFile(\"sample/data.csv\")"
   ]
  },
  {
   "cell_type": "code",
   "execution_count": 3,
   "metadata": {},
   "outputs": [],
   "source": [
    "def extract_vin_key_value(row):\n",
    "    auto = row.strip().split(\",\")\n",
    "    return (auto[2], (auto[1], auto[3], auto[5]))"
   ]
  },
  {
   "cell_type": "code",
   "execution_count": 4,
   "metadata": {},
   "outputs": [],
   "source": [
    "vin_kv = raw_rdd.map(lambda row: extract_vin_key_value(row))"
   ]
  },
  {
   "cell_type": "code",
   "execution_count": 5,
   "metadata": {},
   "outputs": [
    {
     "data": {
      "text/plain": [
       "[('VXIO456XLBB630221', ('I', 'Nissan', '2003')),\n",
       " ('INU45KIOOPA343980', ('I', 'Mercedes', '2015')),\n",
       " ('VXIO456XLBB630221', ('A', '', '')),\n",
       " ('VXIO456XLBB630221', ('R', '', '')),\n",
       " ('VOME254OOXW344325', ('I', 'Mercedes', '2015')),\n",
       " ('VOME254OOXW344325', ('R', '', '')),\n",
       " ('VXIO456XLBB630221', ('R', '', '')),\n",
       " ('EXOA00341AB123456', ('I', 'Mercedes', '2016')),\n",
       " ('VOME254OOXW344325', ('A', '', '')),\n",
       " ('VOME254OOXW344325', ('R', '', '')),\n",
       " ('EXOA00341AB123456', ('R', '', '')),\n",
       " ('EXOA00341AB123456', ('A', '', '')),\n",
       " ('VOME254OOXW344325', ('R', '', '')),\n",
       " ('UXIA769ABCC447906', ('I', 'Toyota', '2017')),\n",
       " ('UXIA769ABCC447906', ('R', '', '')),\n",
       " ('INU45KIOOPA343980', ('A', '', ''))]"
      ]
     },
     "execution_count": 5,
     "metadata": {},
     "output_type": "execute_result"
    }
   ],
   "source": [
    "vin_kv.collect()"
   ]
  },
  {
   "cell_type": "code",
   "execution_count": 6,
   "metadata": {},
   "outputs": [],
   "source": [
    "def populate_make(row):\n",
    "\n",
    "    group_master = []\n",
    "    for i in row:\n",
    "        group_master.append(list(i))\n",
    "        \n",
    "    for i in range(0, len(group_master)):\n",
    "        make = group_master[i-1][1]\n",
    "        year = group_master[i-1][2]\n",
    "        \n",
    "        if group_master[i][0] != 'I':\n",
    "            if group_master[i][1] == '' and group_master[i][2] == '':\n",
    "                group_master[i][1] = make\n",
    "                group_master[i][2] = year\n",
    "        \n",
    "    return group_master"
   ]
  },
  {
   "cell_type": "code",
   "execution_count": 7,
   "metadata": {},
   "outputs": [],
   "source": [
    "enhance_make = vin_kv.groupByKey().flatMap(lambda row: populate_make(row[1]))"
   ]
  },
  {
   "cell_type": "code",
   "execution_count": 8,
   "metadata": {
    "scrolled": true
   },
   "outputs": [
    {
     "data": {
      "text/plain": [
       "[['I', 'Nissan', '2003'],\n",
       " ['A', 'Nissan', '2003'],\n",
       " ['R', 'Nissan', '2003'],\n",
       " ['R', 'Nissan', '2003'],\n",
       " ['I', 'Mercedes', '2015'],\n",
       " ['A', 'Mercedes', '2015'],\n",
       " ['I', 'Mercedes', '2015'],\n",
       " ['R', 'Mercedes', '2015'],\n",
       " ['A', 'Mercedes', '2015'],\n",
       " ['R', 'Mercedes', '2015'],\n",
       " ['R', 'Mercedes', '2015'],\n",
       " ['I', 'Mercedes', '2016'],\n",
       " ['R', 'Mercedes', '2016'],\n",
       " ['A', 'Mercedes', '2016'],\n",
       " ['I', 'Toyota', '2017'],\n",
       " ['R', 'Toyota', '2017']]"
      ]
     },
     "execution_count": 8,
     "metadata": {},
     "output_type": "execute_result"
    }
   ],
   "source": [
    "enhance_make.collect()"
   ]
  },
  {
   "cell_type": "code",
   "execution_count": 88,
   "metadata": {},
   "outputs": [],
   "source": [
    "def extract_make_key_value(row):\n",
    "\n",
    "    if row[0] == 'A':\n",
    "        return (row[1], row[2]), 1\n",
    "    else:\n",
    "        return (row[1], row[2]), 0"
   ]
  },
  {
   "cell_type": "code",
   "execution_count": 89,
   "metadata": {},
   "outputs": [],
   "source": [
    "make_kv = enhance_make.map(lambda x: extract_make_key_value(x))"
   ]
  },
  {
   "cell_type": "code",
   "execution_count": 90,
   "metadata": {},
   "outputs": [
    {
     "data": {
      "text/plain": [
       "[(('Nissan', '2003'), 0),\n",
       " (('Nissan', '2003'), 1),\n",
       " (('Nissan', '2003'), 0),\n",
       " (('Nissan', '2003'), 0),\n",
       " (('Mercedes', '2015'), 0),\n",
       " (('Mercedes', '2015'), 1),\n",
       " (('Mercedes', '2015'), 0),\n",
       " (('Mercedes', '2015'), 0),\n",
       " (('Mercedes', '2015'), 1),\n",
       " (('Mercedes', '2015'), 0),\n",
       " (('Mercedes', '2015'), 0),\n",
       " (('Mercedes', '2016'), 0),\n",
       " (('Mercedes', '2016'), 0),\n",
       " (('Mercedes', '2016'), 1),\n",
       " (('Toyota', '2017'), 0),\n",
       " (('Toyota', '2017'), 0)]"
      ]
     },
     "execution_count": 90,
     "metadata": {},
     "output_type": "execute_result"
    }
   ],
   "source": [
    "make_kv.collect()"
   ]
  },
  {
   "cell_type": "code",
   "execution_count": 113,
   "metadata": {},
   "outputs": [],
   "source": [
    "accidents = make_kv.reduceByKey(lambda x, y: x + y)"
   ]
  },
  {
   "cell_type": "code",
   "execution_count": 114,
   "metadata": {},
   "outputs": [
    {
     "data": {
      "text/plain": [
       "[(('Nissan', '2003'), 1),\n",
       " (('Mercedes', '2015'), 2),\n",
       " (('Mercedes', '2016'), 1),\n",
       " (('Toyota', '2017'), 0)]"
      ]
     },
     "execution_count": 114,
     "metadata": {},
     "output_type": "execute_result"
    }
   ],
   "source": [
    "accidents.collect()"
   ]
  },
  {
   "cell_type": "code",
   "execution_count": 117,
   "metadata": {},
   "outputs": [],
   "source": [
    "file = open('accidents.txt', 'x')\n",
    "for accident in accidents.collect():\n",
    "    if accident[1] >= 1:\n",
    "        file.write('{}-{},{}\\n'.format(accident[0][0], accident[0][1], accident[1]))\n",
    "file.close()"
   ]
  }
 ],
 "metadata": {
  "kernelspec": {
   "display_name": "Python 3",
   "language": "python",
   "name": "python3"
  },
  "language_info": {
   "codemirror_mode": {
    "name": "ipython",
    "version": 3
   },
   "file_extension": ".py",
   "mimetype": "text/x-python",
   "name": "python",
   "nbconvert_exporter": "python",
   "pygments_lexer": "ipython3",
   "version": "3.8.3"
  }
 },
 "nbformat": 4,
 "nbformat_minor": 4
}
