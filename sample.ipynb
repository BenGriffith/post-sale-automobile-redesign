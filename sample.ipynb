{
 "cells": [
  {
   "cell_type": "code",
   "execution_count": 1,
   "metadata": {},
   "outputs": [],
   "source": [
    "import pyspark\n",
    "from pyspark.sql.functions import *\n",
    "from pyspark.sql import SparkSession\n",
    "from pyspark import SparkContext"
   ]
  },
  {
   "cell_type": "code",
   "execution_count": 2,
   "metadata": {},
   "outputs": [],
   "source": [
    "sc = SparkContext(\"local\", \"post-sales-auto\")\n",
    "raw_rdd = sc.textFile(\"sample/data.csv\")"
   ]
  },
  {
   "cell_type": "code",
   "execution_count": 3,
   "metadata": {},
   "outputs": [],
   "source": [
    "def extract_vin_key_value(row):\n",
    "    auto = row.strip().split(\",\")\n",
    "    return (auto[2], (auto[1], auto[3], auto[5]))"
   ]
  },
  {
   "cell_type": "code",
   "execution_count": 4,
   "metadata": {},
   "outputs": [],
   "source": [
    "vin_kv = raw_rdd.map(lambda row: extract_vin_key_value(row))"
   ]
  },
  {
   "cell_type": "code",
   "execution_count": 5,
   "metadata": {},
   "outputs": [
    {
     "data": {
      "text/plain": [
       "[('VXIO456XLBB630221', ('I', 'Nissan', '2003')),\n",
       " ('INU45KIOOPA343980', ('I', 'Mercedes', '2015')),\n",
       " ('VXIO456XLBB630221', ('A', '', '')),\n",
       " ('VXIO456XLBB630221', ('R', '', '')),\n",
       " ('VOME254OOXW344325', ('I', 'Mercedes', '2015')),\n",
       " ('VOME254OOXW344325', ('R', '', '')),\n",
       " ('VXIO456XLBB630221', ('R', '', '')),\n",
       " ('EXOA00341AB123456', ('I', 'Mercedes', '2016')),\n",
       " ('VOME254OOXW344325', ('A', '', '')),\n",
       " ('VOME254OOXW344325', ('R', '', '')),\n",
       " ('EXOA00341AB123456', ('R', '', '')),\n",
       " ('EXOA00341AB123456', ('A', '', '')),\n",
       " ('VOME254OOXW344325', ('R', '', '')),\n",
       " ('UXIA769ABCC447906', ('I', 'Toyota', '2017')),\n",
       " ('UXIA769ABCC447906', ('R', '', '')),\n",
       " ('INU45KIOOPA343980', ('A', '', ''))]"
      ]
     },
     "execution_count": 5,
     "metadata": {},
     "output_type": "execute_result"
    }
   ],
   "source": [
    "vin_kv.collect()"
   ]
  },
  {
   "cell_type": "code",
   "execution_count": null,
   "metadata": {},
   "outputs": [],
   "source": [
    "# iterate through group vin\n",
    "# find record that has make and year\n",
    "# retrieve make and year\n",
    "# add make and year to other records with same vin"
   ]
  },
  {
   "cell_type": "code",
   "execution_count": 285,
   "metadata": {},
   "outputs": [],
   "source": [
    "def populate_make(row):\n",
    "#     alist = [row]\n",
    "#     for i in alist:\n",
    "#         ab = list(i)\n",
    "#         return ab\n",
    "    group_master = []\n",
    "    for i in row:\n",
    "        group_master.append(list(i))\n",
    "        \n",
    "    for i in range(0, len(group_master)):\n",
    "        make = group_master[i-1][1]\n",
    "        year = group_master[i-1][2]\n",
    "        \n",
    "        if group_master[i][0] != 'I':\n",
    "            if group_master[i][1] == '' and group_master[i][2] == '':\n",
    "                group_master[i][1] = make\n",
    "                group_master[i][2] = year\n",
    "        \n",
    "    return group_master\n",
    "\n"
   ]
  },
  {
   "cell_type": "code",
   "execution_count": 286,
   "metadata": {},
   "outputs": [],
   "source": [
    "enhance_make = vin_kv.groupByKey().flatMap(lambda row: populate_make(row[1]))"
   ]
  },
  {
   "cell_type": "code",
   "execution_count": 287,
   "metadata": {
    "scrolled": true
   },
   "outputs": [
    {
     "data": {
      "text/plain": [
       "[['I', 'Nissan', '2003'],\n",
       " ['A', 'Nissan', '2003'],\n",
       " ['R', 'Nissan', '2003'],\n",
       " ['R', 'Nissan', '2003'],\n",
       " ['I', 'Mercedes', '2015'],\n",
       " ['A', 'Mercedes', '2015'],\n",
       " ['I', 'Mercedes', '2015'],\n",
       " ['R', 'Mercedes', '2015'],\n",
       " ['A', 'Mercedes', '2015'],\n",
       " ['R', 'Mercedes', '2015'],\n",
       " ['R', 'Mercedes', '2015'],\n",
       " ['I', 'Mercedes', '2016'],\n",
       " ['R', 'Mercedes', '2016'],\n",
       " ['A', 'Mercedes', '2016'],\n",
       " ['I', 'Toyota', '2017'],\n",
       " ['R', 'Toyota', '2017']]"
      ]
     },
     "execution_count": 287,
     "metadata": {},
     "output_type": "execute_result"
    }
   ],
   "source": [
    "enhance_make.collect()"
   ]
  },
  {
   "cell_type": "code",
   "execution_count": 242,
   "metadata": {},
   "outputs": [
    {
     "data": {
      "text/plain": [
       "['R', '', '', 'A', '', '', 'R', '', '', 'A', '', '', 'R', '', '']"
      ]
     },
     "execution_count": 242,
     "metadata": {},
     "output_type": "execute_result"
    }
   ],
   "source": [
    "enhance_make.collect()"
   ]
  },
  {
   "cell_type": "code",
   "execution_count": 393,
   "metadata": {},
   "outputs": [],
   "source": [
    "def populate_make(row):\n",
    "    for i in vin_make_year.collect():\n",
    "        return i"
   ]
  },
  {
   "cell_type": "code",
   "execution_count": 394,
   "metadata": {},
   "outputs": [],
   "source": [
    "enhance_make = vin_kv.map(lambda row: populate_make(row))"
   ]
  }
 ],
 "metadata": {
  "kernelspec": {
   "display_name": "Python 3",
   "language": "python",
   "name": "python3"
  },
  "language_info": {
   "codemirror_mode": {
    "name": "ipython",
    "version": 3
   },
   "file_extension": ".py",
   "mimetype": "text/x-python",
   "name": "python",
   "nbconvert_exporter": "python",
   "pygments_lexer": "ipython3",
   "version": "3.8.3"
  }
 },
 "nbformat": 4,
 "nbformat_minor": 4
}
