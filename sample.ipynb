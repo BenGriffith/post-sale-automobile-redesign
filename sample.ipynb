{
 "cells": [
  {
   "cell_type": "code",
   "execution_count": 1,
   "metadata": {},
   "outputs": [],
   "source": [
    "import pyspark\n",
    "from pyspark.sql.functions import *\n",
    "from pyspark.sql import SparkSession\n",
    "from pyspark import SparkContext"
   ]
  },
  {
   "cell_type": "code",
   "execution_count": 2,
   "metadata": {},
   "outputs": [],
   "source": [
    "sc = SparkContext(\"local\", \"post-sales-auto\")\n",
    "raw_rdd = sc.textFile(\"data.csv\")"
   ]
  },
  {
   "cell_type": "code",
   "execution_count": 107,
   "metadata": {},
   "outputs": [],
   "source": [
    "def extract_vin_key_value(row):\n",
    "\n",
    "    auto = row.strip().split(\",\")\n",
    "    return (auto[2], (auto[1], auto[3], auto[5]))"
   ]
  },
  {
   "cell_type": "code",
   "execution_count": 108,
   "metadata": {},
   "outputs": [],
   "source": [
    "vin_kv = raw_rdd.map(lambda row: extract_vin_key_value(row))"
   ]
  },
  {
   "cell_type": "code",
   "execution_count": 343,
   "metadata": {},
   "outputs": [
    {
     "data": {
      "text/plain": [
       "[('VXIO456XLBB630221', ('I', 'Nissan', '2003')),\n",
       " ('INU45KIOOPA343980', ('I', 'Mercedes', '2015')),\n",
       " ('VXIO456XLBB630221', ('A', '', '')),\n",
       " ('VXIO456XLBB630221', ('R', '', '')),\n",
       " ('VOME254OOXW344325', ('I', 'Mercedes', '2015')),\n",
       " ('VOME254OOXW344325', ('R', '', '')),\n",
       " ('VXIO456XLBB630221', ('R', '', '')),\n",
       " ('EXOA00341AB123456', ('I', 'Mercedes', '2016')),\n",
       " ('VOME254OOXW344325', ('A', '', '')),\n",
       " ('VOME254OOXW344325', ('R', '', '')),\n",
       " ('EXOA00341AB123456', ('R', '', '')),\n",
       " ('EXOA00341AB123456', ('A', '', '')),\n",
       " ('VOME254OOXW344325', ('R', '', '')),\n",
       " ('UXIA769ABCC447906', ('I', 'Toyota', '2017')),\n",
       " ('UXIA769ABCC447906', ('R', '', '')),\n",
       " ('INU45KIOOPA343980', ('A', '', ''))]"
      ]
     },
     "execution_count": 343,
     "metadata": {},
     "output_type": "execute_result"
    }
   ],
   "source": [
    "vin_kv.collect()"
   ]
  },
  {
   "cell_type": "code",
   "execution_count": null,
   "metadata": {},
   "outputs": [],
   "source": [
    "# iterate through group vin\n",
    "# find record that has make and year\n",
    "# retrieve make and year\n",
    "# add make and year to other records with same vin"
   ]
  },
  {
   "cell_type": "code",
   "execution_count": 575,
   "metadata": {},
   "outputs": [],
   "source": [
    "def retrieve_make_year(row):\n",
    "    alist = []\n",
    "    \n",
    "    for i in row:\n",
    "    \n",
    "#     vin_make_year = (row[0], row[1])\n",
    "#     for i in vin_make_year[1]:\n",
    "#         return (vin_make_year[0], i[1], i[2])"
   ]
  },
  {
   "cell_type": "code",
   "execution_count": 576,
   "metadata": {},
   "outputs": [],
   "source": [
    "vin_make_year = vin_kv.groupByKey().flatMap(lambda row: retrieve_make_year(row[1]))"
   ]
  },
  {
   "cell_type": "code",
   "execution_count": 577,
   "metadata": {},
   "outputs": [
    {
     "data": {
      "text/plain": [
       "['I',\n",
       " 'Nissan',\n",
       " '2003',\n",
       " 'I',\n",
       " 'Mercedes',\n",
       " '2015',\n",
       " 'I',\n",
       " 'Mercedes',\n",
       " '2015',\n",
       " 'I',\n",
       " 'Mercedes',\n",
       " '2016',\n",
       " 'I',\n",
       " 'Toyota',\n",
       " '2017']"
      ]
     },
     "execution_count": 577,
     "metadata": {},
     "output_type": "execute_result"
    }
   ],
   "source": [
    "vin_make_year.collect()"
   ]
  },
  {
   "cell_type": "code",
   "execution_count": 393,
   "metadata": {},
   "outputs": [],
   "source": [
    "def populate_make(row):\n",
    "    for i in vin_make_year.collect():\n",
    "        return i"
   ]
  },
  {
   "cell_type": "code",
   "execution_count": 394,
   "metadata": {},
   "outputs": [],
   "source": [
    "enhance_make = vin_kv.map(lambda row: populate_make(row))"
   ]
  }
 ],
 "metadata": {
  "kernelspec": {
   "display_name": "Python 3",
   "language": "python",
   "name": "python3"
  },
  "language_info": {
   "codemirror_mode": {
    "name": "ipython",
    "version": 3
   },
   "file_extension": ".py",
   "mimetype": "text/x-python",
   "name": "python",
   "nbconvert_exporter": "python",
   "pygments_lexer": "ipython3",
   "version": "3.8.3"
  }
 },
 "nbformat": 4,
 "nbformat_minor": 4
}
